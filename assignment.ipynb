{
  "nbformat": 4,
  "nbformat_minor": 0,
  "metadata": {
    "colab": {
      "provenance": []
    },
    "kernelspec": {
      "name": "python3",
      "display_name": "Python 3"
    },
    "language_info": {
      "name": "python"
    }
  },
  "cells": [
    {
      "cell_type": "code",
      "source": [
        "import requests\n",
        "import json\n",
        "\n",
        "url = 'https://raw.githubusercontent.com/bhargav-velisetti/flink_examples/master/data/cruise_ship_schema.json'\n",
        "\n",
        "response = requests.get(url)\n",
        "data = response.text\n",
        "data = json.loads(data)\n",
        "print(data.get('crew'))\n"
      ],
      "metadata": {
        "colab": {
          "base_uri": "https://localhost:8080/"
        },
        "id": "XORWJa5itLuw",
        "outputId": "dce83f7a-9c7b-4d2e-de02-cc6c42edf341"
      },
      "execution_count": null,
      "outputs": [
        {
          "output_type": "stream",
          "name": "stdout",
          "text": [
            "FLOAT\n"
          ]
        }
      ]
    },
    {
      "cell_type": "code",
      "source": [
        "import requests\n",
        "import json\n",
        "\n",
        "url = 'https://raw.githubusercontent.com/bhargav-velisetti/apache_beam_examples_java/master/data/sample-data.json'\n",
        "\n",
        "response = requests.get(url)\n",
        "\n",
        "data = response.text.split('\\n')\n",
        "\n",
        "for item in data:\n",
        "  temp_data = json.loads(item)\n",
        "  print(temp_data.get('firstName'))\n"
      ],
      "metadata": {
        "colab": {
          "base_uri": "https://localhost:8080/"
        },
        "id": "ur8r5dfRtd2A",
        "outputId": "a5689496-7de9-4ac3-a68b-f9a2789d88de"
      },
      "execution_count": null,
      "outputs": [
        {
          "output_type": "stream",
          "name": "stdout",
          "text": [
            "['{\"firstName\": \"John1\",\"lastName\": \"Smith1\",\"age\": 25,\"address\": {\"streetAddress\": \"21 2nd Street\",\"city\": \"New York\",\"state\": \"NY\",\"postalCode\": 10021},\"phoneNumbers\": {\"type\": \"home\",\"number\": \"212 555-1234\"}}', '{\"firstName\": \"John2\",\"lastName\": \"Smith2\",\"age\": 25,\"address\": {\"streetAddress\": \"21 2nd Street\",\"city\": \"New York\",\"state\": \"NY\",\"postalCode\": 10021},\"phoneNumbers\": {\"type\": \"home\",\"number\": \"212 555-1234\"}}']\n",
            "John1\n",
            "John2\n"
          ]
        }
      ]
    },
    {
      "cell_type": "code",
      "source": [
        "list_a = [0,1,2,3,4,5,6]\n",
        "print('5th element: ', list_a[4])\n",
        "print('Last three elements: ', list_a[(len(list_a)-3):])\n",
        "print('Print Len of the list: ', len(list_a))"
      ],
      "metadata": {
        "colab": {
          "base_uri": "https://localhost:8080/"
        },
        "id": "0J6LmspHxA8f",
        "outputId": "1d816a1a-b2a8-4fdc-80b9-56d3f3e4e6c3"
      },
      "execution_count": null,
      "outputs": [
        {
          "output_type": "stream",
          "name": "stdout",
          "text": [
            "5th element:  4\n",
            "Last three elements:  [4, 5, 6]\n",
            "Print Len of the list:  7\n"
          ]
        }
      ]
    },
    {
      "cell_type": "code",
      "source": [
        "dict_a = {'a':1,'b':2}\n",
        "print('Print keys of the the dictionary dict_a')\n",
        "for key in dict_a:\n",
        "  print(key)\n",
        "print('Print values of the dictionary dict_a')\n",
        "for key in dict_a:\n",
        "  print(dict_a[key])\n",
        "print('Print value of the key = b: ', dict_a['b'])"
      ],
      "metadata": {
        "colab": {
          "base_uri": "https://localhost:8080/"
        },
        "id": "4CqMho_wzPSY",
        "outputId": "5ecb5d77-496c-4112-ba55-dfaa83d6a3e0"
      },
      "execution_count": null,
      "outputs": [
        {
          "output_type": "stream",
          "name": "stdout",
          "text": [
            "Print keys of the the dictionary dict_a\n",
            "a\n",
            "b\n",
            "Print values of the dictionary dict_a\n",
            "1\n",
            "2\n",
            "Print value of the key = b:  2\n"
          ]
        }
      ]
    }
  ]
}